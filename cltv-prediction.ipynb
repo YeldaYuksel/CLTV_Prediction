{
 "cells": [
  {
   "cell_type": "markdown",
   "id": "31d26801",
   "metadata": {
    "papermill": {
     "duration": 0.007159,
     "end_time": "2024-09-10T01:43:07.222829",
     "exception": false,
     "start_time": "2024-09-10T01:43:07.215670",
     "status": "completed"
    },
    "tags": []
   },
   "source": [
    "**CLTV Prediction with BG-NBD and Gamma-Gamma**"
   ]
  },
  {
   "cell_type": "code",
   "execution_count": 1,
   "id": "afd33193",
   "metadata": {
    "execution": {
     "iopub.execute_input": "2024-09-10T01:43:07.240773Z",
     "iopub.status.busy": "2024-09-10T01:43:07.238747Z",
     "iopub.status.idle": "2024-09-10T01:43:07.248977Z",
     "shell.execute_reply": "2024-09-10T01:43:07.247360Z"
    },
    "papermill": {
     "duration": 0.023535,
     "end_time": "2024-09-10T01:43:07.253202",
     "exception": false,
     "start_time": "2024-09-10T01:43:07.229667",
     "status": "completed"
    },
    "tags": []
   },
   "outputs": [],
   "source": [
    "#!pip install lifetimes\n",
    "#import pandas as pd\n",
    "#import datetime as dt\n",
    "#import matplotlib.pyplot as plt\n",
    "#from lifetimes import BetaGeoFitter\n",
    "#from lifetimes import GammaGammaFitter\n",
    "#from lifetimes.plotting import plot_period_transactions\n",
    "#from sklearn.preprocessing import MinMaxScaler\n",
    "#pd.set_option('display.max_columns', None)\n",
    "#pd.set_option('display.width', 500)\n",
    "#pd.set_option('display.float_format', lambda x: '%.4f' % x)\n",
    "\n",
    "#df_ = pd.read_csv(\"datasets/flo_data_20k.csv\")"
   ]
  },
  {
   "cell_type": "markdown",
   "id": "40d88a57",
   "metadata": {
    "papermill": {
     "duration": 0.005929,
     "end_time": "2024-09-10T01:43:07.265745",
     "exception": false,
     "start_time": "2024-09-10T01:43:07.259816",
     "status": "completed"
    },
    "tags": []
   },
   "source": [
    "*Outlier Functions*"
   ]
  },
  {
   "cell_type": "code",
   "execution_count": 2,
   "id": "e246efd3",
   "metadata": {
    "execution": {
     "iopub.execute_input": "2024-09-10T01:43:07.282332Z",
     "iopub.status.busy": "2024-09-10T01:43:07.281496Z",
     "iopub.status.idle": "2024-09-10T01:43:07.300541Z",
     "shell.execute_reply": "2024-09-10T01:43:07.298477Z"
    },
    "papermill": {
     "duration": 0.031921,
     "end_time": "2024-09-10T01:43:07.304407",
     "exception": false,
     "start_time": "2024-09-10T01:43:07.272486",
     "status": "completed"
    },
    "tags": []
   },
   "outputs": [],
   "source": [
    "def outlier_thresholds(dataframe, variable):\n",
    "    quartile1 = dataframe[variable].quantile(0.01)\n",
    "    quartile3 = dataframe[variable].quantile(0.99)\n",
    "    interquantile_range = quartile3 - quartile1\n",
    "    up_limit = quartile3 + 1.5 * interquantile_range\n",
    "    low_limit = quartile1 - 1.5 * interquantile_range\n",
    "\n",
    "    if dataframe[variable].dtype != 'O':\n",
    "        up_limit = round(up_limit)\n",
    "        low_limit = round(low_limit)\n",
    "\n",
    "    return low_limit, up_limit\n",
    "\n",
    "\n",
    "def replace_with_thresholds(dataframe, variable):\n",
    "    low_limit, up_limit = outlier_thresholds(dataframe, variable)\n",
    "    #dataframe.loc[(dataframe[variable] < low_limit), variable] = low_limit\n",
    "    dataframe.loc[(dataframe[variable] > up_limit), variable] = up_limit\n",
    "    \n",
    "\n",
    "#replace_with_thresholds(df, \"order_num_total_ever_online\")\n",
    "#replace_with_thresholds(df, \"order_num_total_ever_offline\")"
   ]
  },
  {
   "cell_type": "markdown",
   "id": "73445d70",
   "metadata": {
    "papermill": {
     "duration": 0.006158,
     "end_time": "2024-09-10T01:43:07.317208",
     "exception": false,
     "start_time": "2024-09-10T01:43:07.311050",
     "status": "completed"
    },
    "tags": []
   },
   "source": [
    "*Creating CLTV DF*"
   ]
  },
  {
   "cell_type": "code",
   "execution_count": 3,
   "id": "610e2ab4",
   "metadata": {
    "execution": {
     "iopub.execute_input": "2024-09-10T01:43:07.333838Z",
     "iopub.status.busy": "2024-09-10T01:43:07.332359Z",
     "iopub.status.idle": "2024-09-10T01:43:07.341948Z",
     "shell.execute_reply": "2024-09-10T01:43:07.339749Z"
    },
    "papermill": {
     "duration": 0.022932,
     "end_time": "2024-09-10T01:43:07.346441",
     "exception": false,
     "start_time": "2024-09-10T01:43:07.323509",
     "status": "completed"
    },
    "tags": []
   },
   "outputs": [],
   "source": [
    "#df[\"last_order_date\"].max()\n",
    "\n",
    "#today_date = dt.datetime(2021, 6, 1)\n",
    "\n",
    "#cltv_df = df.groupby('master_id').agg({\n",
    "#   'last_order_date': [lambda x: (x.max() - df.loc[x.index, 'first_order_date'].min()).days,\n",
    "#                       lambda x: (today_date - df.loc[x.index, 'first_order_date'].min()).days],\n",
    "#    'total_purc': lambda x: x.sum(),\n",
    "#    'total_spending': lambda x: x.sum()})\n",
    "\n",
    "#cltv_df.columns = cltv_df.columns.droplevel(0) ##sütun üstündeki ilk sırayı siliyoruz\n",
    "#cltv_df.columns = [\"recency\", \"T\", \"frequency\", \"monetary\"]\n",
    "\n",
    "\n",
    "#### WEEKLY PERIOD ###\n",
    "\n",
    "#cltv_df[\"monetary\"] = cltv_df[\"monetary\"] / cltv_df[\"frequency\"] \n",
    "\n",
    "#cltv_df = cltv_df[(cltv_df[\"frequency\"] > 1)] \n",
    "\n",
    "#cltv_df[\"recency\"] = cltv_df[\"recency\"] / 7 \n",
    "\n",
    "#cltv_df[\"T\"] = cltv_df[\"T\"] / 7"
   ]
  },
  {
   "cell_type": "markdown",
   "id": "7f14331d",
   "metadata": {
    "papermill": {
     "duration": 0.005749,
     "end_time": "2024-09-10T01:43:07.358743",
     "exception": false,
     "start_time": "2024-09-10T01:43:07.352994",
     "status": "completed"
    },
    "tags": []
   },
   "source": [
    "*Applying BG/NBD Model*"
   ]
  },
  {
   "cell_type": "code",
   "execution_count": 4,
   "id": "a9143072",
   "metadata": {
    "execution": {
     "iopub.execute_input": "2024-09-10T01:43:07.376425Z",
     "iopub.status.busy": "2024-09-10T01:43:07.375020Z",
     "iopub.status.idle": "2024-09-10T01:43:07.383642Z",
     "shell.execute_reply": "2024-09-10T01:43:07.381632Z"
    },
    "papermill": {
     "duration": 0.02205,
     "end_time": "2024-09-10T01:43:07.387666",
     "exception": false,
     "start_time": "2024-09-10T01:43:07.365616",
     "status": "completed"
    },
    "tags": []
   },
   "outputs": [],
   "source": [
    "#bgf = BetaGeoFitter(penalizer_coef=0.001)\n",
    "\n",
    "#bgf.fit(cltv_df['frequency'],\n",
    "#        cltv_df['recency'],\n",
    "#        cltv_df['T'])\n",
    "\n",
    "\n",
    "#cltv_df[\"exp_sales_3_month\"] = bgf.predict(4,\n",
    "#                                              cltv_df['frequency'],\n",
    "#                                              cltv_df['recency'],\n",
    "#                                              cltv_df['T'])"
   ]
  },
  {
   "cell_type": "markdown",
   "id": "8bcbbb11",
   "metadata": {
    "papermill": {
     "duration": 0.005766,
     "end_time": "2024-09-10T01:43:07.399777",
     "exception": false,
     "start_time": "2024-09-10T01:43:07.394011",
     "status": "completed"
    },
    "tags": []
   },
   "source": [
    "*Applying Gamma-Gamma Model*"
   ]
  },
  {
   "cell_type": "code",
   "execution_count": 5,
   "id": "c58cc134",
   "metadata": {
    "execution": {
     "iopub.execute_input": "2024-09-10T01:43:07.417038Z",
     "iopub.status.busy": "2024-09-10T01:43:07.414974Z",
     "iopub.status.idle": "2024-09-10T01:43:07.423368Z",
     "shell.execute_reply": "2024-09-10T01:43:07.421614Z"
    },
    "papermill": {
     "duration": 0.021298,
     "end_time": "2024-09-10T01:43:07.427277",
     "exception": false,
     "start_time": "2024-09-10T01:43:07.405979",
     "status": "completed"
    },
    "tags": []
   },
   "outputs": [],
   "source": [
    "#ggf = GammaGammaFitter(penalizer_coef=0.01)\n",
    "\n",
    "#ggf.fit(cltv_df['frequency'], cltv_df['monetary'])\n",
    "\n",
    "#cltv_df[\"exp_average_value\"] = ggf.conditional_expected_average_profit(cltv_df['frequency'], cltv_df['monetary'])\n"
   ]
  },
  {
   "cell_type": "markdown",
   "id": "e1c53690",
   "metadata": {
    "papermill": {
     "duration": 0.005873,
     "end_time": "2024-09-10T01:43:07.439501",
     "exception": false,
     "start_time": "2024-09-10T01:43:07.433628",
     "status": "completed"
    },
    "tags": []
   },
   "source": [
    "*(1 Month) CLTV*"
   ]
  },
  {
   "cell_type": "code",
   "execution_count": 6,
   "id": "9cb52c47",
   "metadata": {
    "execution": {
     "iopub.execute_input": "2024-09-10T01:43:07.456764Z",
     "iopub.status.busy": "2024-09-10T01:43:07.454935Z",
     "iopub.status.idle": "2024-09-10T01:43:07.464070Z",
     "shell.execute_reply": "2024-09-10T01:43:07.462382Z"
    },
    "papermill": {
     "duration": 0.022446,
     "end_time": "2024-09-10T01:43:07.468479",
     "exception": false,
     "start_time": "2024-09-10T01:43:07.446033",
     "status": "completed"
    },
    "tags": []
   },
   "outputs": [],
   "source": [
    "#cltv = ggf.customer_lifetime_value(bgf,\n",
    "#                                   cltv_df['frequency'],\n",
    "#                                   cltv_df['recency'],\n",
    "#                                   cltv_df['T'],\n",
    "#                                   cltv_df['monetary'],\n",
    "#                                   time=1, \n",
    "#                                   freq=\"W\",\n",
    "#                                   discount_rate=0.01)"
   ]
  },
  {
   "cell_type": "markdown",
   "id": "a106cfe4",
   "metadata": {
    "papermill": {
     "duration": 0.00599,
     "end_time": "2024-09-10T01:43:07.481003",
     "exception": false,
     "start_time": "2024-09-10T01:43:07.475013",
     "status": "completed"
    },
    "tags": []
   },
   "source": [
    "*Creating CLTV Segments*"
   ]
  },
  {
   "cell_type": "code",
   "execution_count": 7,
   "id": "2f26b34d",
   "metadata": {
    "execution": {
     "iopub.execute_input": "2024-09-10T01:43:07.499244Z",
     "iopub.status.busy": "2024-09-10T01:43:07.497157Z",
     "iopub.status.idle": "2024-09-10T01:43:07.506060Z",
     "shell.execute_reply": "2024-09-10T01:43:07.504133Z"
    },
    "papermill": {
     "duration": 0.022979,
     "end_time": "2024-09-10T01:43:07.510778",
     "exception": false,
     "start_time": "2024-09-10T01:43:07.487799",
     "status": "completed"
    },
    "tags": []
   },
   "outputs": [],
   "source": [
    "#cltv[\"cltv_segment\"] = pd.qcut(cltv[\"clv\"], 4, labels=[\"D\", \"C\", \"B\", \"A\"])"
   ]
  }
 ],
 "metadata": {
  "kaggle": {
   "accelerator": "none",
   "dataSources": [],
   "dockerImageVersionId": 30761,
   "isGpuEnabled": false,
   "isInternetEnabled": true,
   "language": "python",
   "sourceType": "notebook"
  },
  "kernelspec": {
   "display_name": "Python 3",
   "language": "python",
   "name": "python3"
  },
  "language_info": {
   "codemirror_mode": {
    "name": "ipython",
    "version": 3
   },
   "file_extension": ".py",
   "mimetype": "text/x-python",
   "name": "python",
   "nbconvert_exporter": "python",
   "pygments_lexer": "ipython3",
   "version": "3.10.14"
  },
  "papermill": {
   "default_parameters": {},
   "duration": 5.768973,
   "end_time": "2024-09-10T01:43:08.450940",
   "environment_variables": {},
   "exception": null,
   "input_path": "__notebook__.ipynb",
   "output_path": "__notebook__.ipynb",
   "parameters": {},
   "start_time": "2024-09-10T01:43:02.681967",
   "version": "2.6.0"
  }
 },
 "nbformat": 4,
 "nbformat_minor": 5
}
